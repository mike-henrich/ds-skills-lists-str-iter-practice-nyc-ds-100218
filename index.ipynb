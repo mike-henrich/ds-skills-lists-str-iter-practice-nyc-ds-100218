{
 "cells": [
  {
   "cell_type": "markdown",
   "metadata": {},
   "source": [
    "## Here's a simple list:"
   ]
  },
  {
   "cell_type": "code",
   "execution_count": 2,
   "metadata": {},
   "outputs": [],
   "source": [
    "cats = ['Maine Coon', 'Tabby', 'Siamese', 'Garfield', 'Sylvester']"
   ]
  },
  {
   "cell_type": "code",
   "execution_count": 2,
   "metadata": {},
   "outputs": [
    {
     "data": {
      "text/plain": [
       "['Maine Coon', 'Tabby', 'Siamese', 'Garfield', 'Sylvester']"
      ]
     },
     "execution_count": 2,
     "metadata": {},
     "output_type": "execute_result"
    }
   ],
   "source": [
    "cats"
   ]
  },
  {
   "cell_type": "markdown",
   "metadata": {},
   "source": [
    "## Iterate through the list and print each cat."
   ]
  },
  {
   "cell_type": "code",
   "execution_count": 3,
   "metadata": {},
   "outputs": [
    {
     "name": "stdout",
     "output_type": "stream",
     "text": [
      "Maine Coon\n",
      "Tabby\n",
      "Siamese\n",
      "Garfield\n",
      "Sylvester\n"
     ]
    }
   ],
   "source": [
    "for dog in cats:\n",
    "    print(dog)"
   ]
  },
  {
   "cell_type": "markdown",
   "metadata": {},
   "source": [
    "## Create a new list cat_jrs by appending ‘Jr.’ to each of the cats names."
   ]
  },
  {
   "cell_type": "code",
   "execution_count": 4,
   "metadata": {},
   "outputs": [
    {
     "name": "stdout",
     "output_type": "stream",
     "text": [
      "['Maine Coon Jr.', 'Tabby Jr.', 'Siamese Jr.', 'Garfield Jr.', 'Sylvester Jr.']\n"
     ]
    }
   ],
   "source": [
    "cat_jrs = []\n",
    "for cat in cats:\n",
    "    cat_jrs.append(cat + ' Jr.')\n",
    "\n",
    "print(cat_jrs)"
   ]
  },
  {
   "cell_type": "code",
   "execution_count": 7,
   "metadata": {},
   "outputs": [
    {
     "name": "stdout",
     "output_type": "stream",
     "text": [
      "Maine Coon\n",
      "['Maine Coon Jr.']\n",
      "====================\n",
      "Tabby\n",
      "['Maine Coon Jr.', 'Tabby Jr.']\n",
      "====================\n",
      "Siamese\n",
      "['Maine Coon Jr.', 'Tabby Jr.', 'Siamese Jr.']\n",
      "====================\n",
      "Garfield\n",
      "['Maine Coon Jr.', 'Tabby Jr.', 'Siamese Jr.', 'Garfield Jr.']\n",
      "====================\n",
      "Sylvester\n",
      "['Maine Coon Jr.', 'Tabby Jr.', 'Siamese Jr.', 'Garfield Jr.', 'Sylvester Jr.']\n",
      "====================\n"
     ]
    }
   ],
   "source": [
    "cat_jrs = []\n",
    "for cat in cats:\n",
    "    cat_jrs.append(cat + ' Jr.')\n",
    "    print(cat)\n",
    "    print(cat_jrs)\n",
    "    print('='*20)\n",
    "\n",
    "# print(cat_jrs)"
   ]
  },
  {
   "cell_type": "code",
   "execution_count": 9,
   "metadata": {},
   "outputs": [
    {
     "data": {
      "text/plain": [
       "['Maine Coon Jr.', 'Tabby Jr.', 'Siamese Jr.', 'Garfield Jr.', 'Sylvester Jr.']"
      ]
     },
     "execution_count": 9,
     "metadata": {},
     "output_type": "execute_result"
    }
   ],
   "source": [
    "# LIST COMPREHENSIONS\n",
    "\n",
    "cat_jrs = [c + ' Jr.' for c in cats]\n",
    "cat_jrs"
   ]
  },
  {
   "cell_type": "markdown",
   "metadata": {},
   "source": [
    "## Sort the list in alphabetical order."
   ]
  },
  {
   "cell_type": "code",
   "execution_count": 9,
   "metadata": {},
   "outputs": [
    {
     "name": "stdout",
     "output_type": "stream",
     "text": [
      "['Garfield Jr.', 'Maine Coon Jr.', 'Siamese Jr.', 'Sylvester Jr.', 'Tabby Jr.']\n"
     ]
    }
   ],
   "source": [
    "cats_jrs.sort()\n",
    "print(cats_jrs)"
   ]
  },
  {
   "cell_type": "markdown",
   "metadata": {},
   "source": [
    "# Sort the list in reverse alphabetical order"
   ]
  },
  {
   "cell_type": "code",
   "execution_count": 13,
   "metadata": {},
   "outputs": [
    {
     "name": "stdout",
     "output_type": "stream",
     "text": [
      "['Tabby', 'Sylvester', 'Siamese', 'Maine Coon', 'Garfield']\n"
     ]
    }
   ],
   "source": [
    "cats.sort()\n",
    "cats.reverse()\n",
    "print(cats)"
   ]
  },
  {
   "cell_type": "markdown",
   "metadata": {},
   "source": [
    "## Look up a new string or list method and explain how it works."
   ]
  },
  {
   "cell_type": "code",
   "execution_count": 16,
   "metadata": {},
   "outputs": [
    {
     "name": "stdout",
     "output_type": "stream",
     "text": [
      "1\n"
     ]
    }
   ],
   "source": [
    "print(cats.count('Garfield')) # counts the number of times an item appears in the list"
   ]
  },
  {
   "cell_type": "markdown",
   "metadata": {},
   "source": [
    "# Extension: Sort the list by the 3rd letter of each name.\n",
    "Hint: look at the docstring's optional parameter, `key=`.   \n",
    "You can then define a special function called a *lambda function* on the fly like this:  \n",
    "`lambda thing: thing*-1` or `lambda x: operation(x)`\n",
    "\n",
    "Like a for loop you can create any variable name after calling `lambda`.  \n",
    "After calling lambda and a variable name, you then always use a colon `:`.  \n",
    "To the right of the colon is whatever you want your function to do with your variable.\n",
    "\n",
    "More completely:"
   ]
  },
  {
   "cell_type": "code",
   "execution_count": 17,
   "metadata": {},
   "outputs": [
    {
     "data": {
      "text/plain": [
       "[3, 5, 7, 17, 82]"
      ]
     },
     "execution_count": 17,
     "metadata": {},
     "output_type": "execute_result"
    }
   ],
   "source": [
    "numbers = [5,3,7,82, 17]\n",
    "numbers.sort()\n",
    "numbers"
   ]
  },
  {
   "cell_type": "code",
   "execution_count": 18,
   "metadata": {},
   "outputs": [
    {
     "data": {
      "text/plain": [
       "[82, 17, 7, 5, 3]"
      ]
     },
     "execution_count": 18,
     "metadata": {},
     "output_type": "execute_result"
    }
   ],
   "source": [
    "numbers.sort(key=lambda x: x*-1) #Effectively sorts in descending order by taking the inverse\n",
    "numbers"
   ]
  },
  {
   "cell_type": "code",
   "execution_count": 22,
   "metadata": {},
   "outputs": [
    {
     "data": {
      "text/plain": [
       "[7, 17, 5, 3, 82]"
      ]
     },
     "execution_count": 22,
     "metadata": {},
     "output_type": "execute_result"
    }
   ],
   "source": [
    "numbers.sort(key=lambda num: abs(11-num)) #Try to explain what this does.\n",
    "numbers\n",
    "# sorts the numbers by their distance to 11"
   ]
  },
  {
   "cell_type": "code",
   "execution_count": 11,
   "metadata": {},
   "outputs": [],
   "source": [
    "# Your code here"
   ]
  },
  {
   "cell_type": "code",
   "execution_count": 4,
   "metadata": {},
   "outputs": [
    {
     "data": {
      "text/plain": [
       "[5, 4, 3]"
      ]
     },
     "execution_count": 4,
     "metadata": {},
     "output_type": "execute_result"
    }
   ],
   "source": [
    "num = [1, 2, 3, 4, 5]\n",
    "num[-1:-4:-1]"
   ]
  },
  {
   "cell_type": "code",
   "execution_count": null,
   "metadata": {},
   "outputs": [],
   "source": []
  }
 ],
 "metadata": {
  "kernelspec": {
   "display_name": "Python 3",
   "language": "python",
   "name": "python3"
  },
  "language_info": {
   "codemirror_mode": {
    "name": "ipython",
    "version": 3
   },
   "file_extension": ".py",
   "mimetype": "text/x-python",
   "name": "python",
   "nbconvert_exporter": "python",
   "pygments_lexer": "ipython3",
   "version": "3.6.4"
  }
 },
 "nbformat": 4,
 "nbformat_minor": 2
}
